{
  "nbformat": 4,
  "nbformat_minor": 0,
  "metadata": {
    "colab": {
      "name": "Crypto Rate of Return Calculator.ipynb",
      "provenance": [],
      "collapsed_sections": [],
      "authorship_tag": "ABX9TyNCoFHlZCBohdK1JY4wwcVf",
      "include_colab_link": true
    },
    "kernelspec": {
      "name": "python3",
      "display_name": "Python 3"
    },
    "language_info": {
      "name": "python"
    }
  },
  "cells": [
    {
      "cell_type": "markdown",
      "metadata": {
        "id": "view-in-github",
        "colab_type": "text"
      },
      "source": [
        "<a href=\"https://colab.research.google.com/github/Sundeepan-Sen/rate-of-return-calculator/blob/main/Crypto_Rate_of_Return_Calculator.ipynb\" target=\"_parent\"><img src=\"https://colab.research.google.com/assets/colab-badge.svg\" alt=\"Open In Colab\"/></a>"
      ]
    },
    {
      "cell_type": "markdown",
      "metadata": {
        "id": "Z0xs-tmQw9gC"
      },
      "source": [
        "# Import libraries and data\n",
        "1.   numpy for the logarithm function\n",
        "2.   pandas_datareader for the crypto data\n",
        "3.   matplotlib for plotting graphs\n",
        "\n"
      ]
    },
    {
      "cell_type": "code",
      "metadata": {
        "id": "5u0pcY3dw31o"
      },
      "source": [
        "import numpy as np\n",
        "from pandas_datareader import data as wb\n",
        "import matplotlib.pyplot as plt"
      ],
      "execution_count": 175,
      "outputs": []
    },
    {
      "cell_type": "markdown",
      "metadata": {
        "id": "zt2E3l2nxCf1"
      },
      "source": [
        "# Set Number of Days in a Year\n",
        "###### Crypto is traded 24/7"
      ]
    },
    {
      "cell_type": "code",
      "metadata": {
        "id": "i8vxMOoyxBi6"
      },
      "source": [
        "# https://en.wikipedia.org/wiki/Year#:~:text=In%20the%20Julian%20calendar%2C%20the,year%20there%20are%20366%20days.\n",
        "DAYS_IN_YEAR = 365.25\n",
        "#DAYS_IN_YEAR = 221"
      ],
      "execution_count": 176,
      "outputs": []
    },
    {
      "cell_type": "markdown",
      "metadata": {
        "id": "oNglBnunxdrh"
      },
      "source": [
        "# Define Functions\n",
        "\n",
        "\n",
        "*   ` get_ticker_symbol():` gets the ticker symbol\n",
        "*   `get_start_date(): ` gets the start date. If none is specified then MAX\n",
        "*   `get_simple_ror(data_frame):` calculates simple ror\n",
        "*   `get_average_returns_daily(data_frame):`calculates average daily return\n",
        "*  ` def get_average_returns_annually(data_frame):`calculates average returns annually\n",
        "*   `def get_log_ror(data_frame):`calculates logarithmic rate of return\n",
        "*   `def get_log_returns_daily(data_frame):`calculates average daily log return\n",
        "*   `def get_log_returns_annually(data_frame):`alculates average log returns annually\n",
        "\n"
      ]
    },
    {
      "cell_type": "code",
      "metadata": {
        "id": "ZZnsxFoIxbry"
      },
      "source": [
        "def get_ticker_symbol():\n",
        "  return input(\"Enter Ticker Symbol: \")\n",
        "\n",
        "def get_start_date():\n",
        "  return input(\"Enter Start date from when you want to get data. Example: 2014-09-16 or enter for from the beginning of time: \")\n",
        "\n",
        "# Get's data for specified Crypto or Security - Use Yahoo Finanace website as \n",
        "# reference.\n",
        "def get_data(ticker):  \n",
        "  data = wb.DataReader(ticker, data_source='yahoo', start=start_date)\n",
        "  return data\n",
        "\n",
        "def get_simple_ror(data_frame):\n",
        "  data_frame['simple_return'] = (data_frame['Adj Close'] / data_frame['Adj Close'].shift(1)) - 1\n",
        "  return data_frame['simple_return']\n",
        "\n",
        "def get_average_returns_daily(data_frame):\n",
        "  average_returns_daily = data_frame['simple_return'].mean()\n",
        "  return average_returns_daily\n",
        "\n",
        "def get_average_returns_annually(data_frame):\n",
        "  average_returns_annually = data_frame['simple_return'].mean() * DAYS_IN_YEAR\n",
        "  return average_returns_annually\n",
        "\n",
        "def get_log_ror(data_frame):\n",
        "  data_frame['log_return'] = np.log(data_frame['Adj Close'] / data_frame['Adj Close'].shift(1))\n",
        "  return data_frame['log_return']\n",
        "\n",
        "def get_log_returns_daily(data_frame):\n",
        "  log_returns_daily = data_frame['log_return'].mean()\n",
        "  return log_returns_daily\n",
        "\n",
        "def get_log_returns_annually(data_frame):\n",
        "  log_returns_annually = data_frame['log_return'].mean() * DAYS_IN_YEAR\n",
        "  return log_returns_annually"
      ],
      "execution_count": 194,
      "outputs": []
    },
    {
      "cell_type": "markdown",
      "metadata": {
        "id": "teY6tn1gx09y"
      },
      "source": [
        "# Run Program"
      ]
    },
    {
      "cell_type": "code",
      "metadata": {
        "colab": {
          "base_uri": "https://localhost:8080/"
        },
        "id": "am7ryKDqyAiq",
        "outputId": "2d9a4c0c-bf37-4bf6-cb94-7023946b517f"
      },
      "source": [
        "# Get ticker symbol and start date. Press enter for max date.\n",
        "# Run program - asks for user input\n",
        "ticker = get_ticker_symbol()\n",
        "start_date = get_start_date()\n",
        "print()"
      ],
      "execution_count": 178,
      "outputs": [
        {
          "output_type": "stream",
          "text": [
            "Enter Ticker Symbol: DOGE-USD\n",
            "Enter Start date from when you want to get data. Example: 2014-09-16 or enter for from the beginning of time: \n",
            "\n"
          ],
          "name": "stdout"
        }
      ]
    },
    {
      "cell_type": "code",
      "metadata": {
        "colab": {
          "base_uri": "https://localhost:8080/"
        },
        "id": "asUIBYM8yT30",
        "outputId": "26c5124f-cd0f-4144-c1bb-0f5b11527c1e"
      },
      "source": [
        "# call to get_data for ticker data frame.\n",
        "symbol_dataframe = get_data(ticker)\n",
        "print('[' +ticker+']' + ' ' + 'Start Date ' + start_date)\n",
        "print(symbol_dataframe)"
      ],
      "execution_count": 179,
      "outputs": [
        {
          "output_type": "stream",
          "text": [
            "[DOGE-USD] Start Date \n",
            "                High       Low      Open     Close        Volume  Adj Close\n",
            "Date                                                                       \n",
            "2016-05-03  0.000228  0.000224  0.000226  0.000225  7.123900e+04   0.000225\n",
            "2016-05-04  0.000227  0.000219  0.000225  0.000221  1.495670e+05   0.000221\n",
            "2016-05-05  0.000227  0.000219  0.000220  0.000225  9.225000e+04   0.000225\n",
            "2016-05-06  0.000225  0.000221  0.000224  0.000223  8.375400e+04   0.000223\n",
            "2016-05-07  0.000223  0.000220  0.000222  0.000222  4.696100e+04   0.000222\n",
            "...              ...       ...       ...       ...           ...        ...\n",
            "2021-04-27  0.344662  0.256231  0.272273  0.323682  1.446434e+10   0.323682\n",
            "2021-04-28  0.323881  0.296904  0.323232  0.305169  5.027355e+09   0.305169\n",
            "2021-04-29  0.339757  0.302981  0.304702  0.337561  5.290391e+09   0.337561\n",
            "2021-04-30  0.397135  0.328290  0.337559  0.392987  1.012334e+10   0.392987\n",
            "2021-05-03  0.385536  0.375441  0.375441  0.383387  7.154566e+09   0.383387\n",
            "\n",
            "[1821 rows x 6 columns]\n"
          ],
          "name": "stdout"
        }
      ]
    },
    {
      "cell_type": "code",
      "metadata": {
        "colab": {
          "base_uri": "https://localhost:8080/"
        },
        "id": "EQDfgIYfyvlJ",
        "outputId": "e7daf60e-9885-499a-a760-39cc9f7b6df9"
      },
      "source": [
        "# Analyze the dataset\n",
        "print(symbol_dataframe.describe())"
      ],
      "execution_count": 183,
      "outputs": [
        {
          "output_type": "stream",
          "text": [
            "              High          Low  ...    Adj Close  simple_return\n",
            "count  1821.000000  1821.000000  ...  1821.000000    1820.000000\n",
            "mean      0.008419     0.007041  ...     0.007836       0.007529\n",
            "std       0.035575     0.027627  ...     0.032368       0.100928\n",
            "min       0.000205     0.000195  ...     0.000197      -0.402570\n",
            "25%       0.001612     0.001387  ...     0.001520      -0.020561\n",
            "50%       0.002571     0.002443  ...     0.002511       0.000000\n",
            "75%       0.003448     0.003189  ...     0.003308       0.019330\n",
            "max       0.437700     0.375441  ...     0.407318       2.756432\n",
            "\n",
            "[8 rows x 7 columns]\n"
          ],
          "name": "stdout"
        }
      ]
    },
    {
      "cell_type": "code",
      "metadata": {
        "colab": {
          "base_uri": "https://localhost:8080/"
        },
        "id": "mfMH3m1KzSEb",
        "outputId": "92247c95-9ec6-42c0-cb5c-c21cad65dec0"
      },
      "source": [
        "print(get_simple_ror(symbol_dataframe))"
      ],
      "execution_count": 184,
      "outputs": [
        {
          "output_type": "stream",
          "text": [
            "Date\n",
            "2016-05-03         NaN\n",
            "2016-05-04   -0.017778\n",
            "2016-05-05    0.018100\n",
            "2016-05-06   -0.008889\n",
            "2016-05-07   -0.004484\n",
            "                ...   \n",
            "2021-04-27    0.189185\n",
            "2021-04-28   -0.057195\n",
            "2021-04-29    0.106145\n",
            "2021-04-30    0.164196\n",
            "2021-05-03   -0.024427\n",
            "Name: simple_return, Length: 1821, dtype: float64\n"
          ],
          "name": "stdout"
        }
      ]
    },
    {
      "cell_type": "code",
      "metadata": {
        "colab": {
          "base_uri": "https://localhost:8080/",
          "height": 335
        },
        "id": "e79ymzMfzkGX",
        "outputId": "6879afdd-385a-48c2-839d-8075502adc3b"
      },
      "source": [
        "#plot simple return\n",
        "sror = get_simple_ror(symbol_dataframe)\n",
        "sror.plot(figsize=(8,5))"
      ],
      "execution_count": 185,
      "outputs": [
        {
          "output_type": "execute_result",
          "data": {
            "text/plain": [
              "<matplotlib.axes._subplots.AxesSubplot at 0x7ffa05126a50>"
            ]
          },
          "metadata": {
            "tags": []
          },
          "execution_count": 185
        },
        {
          "output_type": "display_data",
          "data": {
            "image/png": "[encoded data removed]",
            "text/plain": [
              "<Figure size 576x360 with 1 Axes>"
            ]
          },
          "metadata": {
            "tags": [],
            "needs_background": "light"
          }
        }
      ]
    },
    {
      "cell_type": "code",
      "metadata": {
        "colab": {
          "base_uri": "https://localhost:8080/"
        },
        "id": "h6BHx_lM0nlc",
        "outputId": "e20f2688-b907-4833-d64e-93c47c5f8d68"
      },
      "source": [
        "average_returns_daily = get_average_returns_daily(symbol_dataframe)\n",
        "average_returns_daily\n",
        "print(\"The average daily simple rate of return for \" + ticker + \" is \" \n",
        "      + str(round(average_returns_daily, 5) * 100) + ' %')"
      ],
      "execution_count": 186,
      "outputs": [
        {
          "output_type": "stream",
          "text": [
            "The average daily simple rate of return for DOGE-USD is 0.753 %\n"
          ],
          "name": "stdout"
        }
      ]
    },
    {
      "cell_type": "code",
      "metadata": {
        "colab": {
          "base_uri": "https://localhost:8080/"
        },
        "id": "AoVsIjhb2eIM",
        "outputId": "4706f35c-03f9-444d-c3f7-ec17737464df"
      },
      "source": [
        "average_returns_annually = get_average_returns_annually(symbol_dataframe)\n",
        "average_returns_annually\n",
        "print(\"The average annual simple rate of return for \" + ticker + \" is \" \n",
        "      + str(round(average_returns_annually, 5) * 100) + ' %')"
      ],
      "execution_count": 187,
      "outputs": [
        {
          "output_type": "stream",
          "text": [
            "The average annual simple rate of return for DOGE-USD is 274.988 %\n"
          ],
          "name": "stdout"
        }
      ]
    },
    {
      "cell_type": "code",
      "metadata": {
        "colab": {
          "base_uri": "https://localhost:8080/"
        },
        "id": "XoLOlO9c25SA",
        "outputId": "bd70f6d6-3322-46ba-ab25-21b5539ebe9d"
      },
      "source": [
        "print(get_log_ror(symbol_dataframe))"
      ],
      "execution_count": 188,
      "outputs": [
        {
          "output_type": "stream",
          "text": [
            "Date\n",
            "2016-05-03         NaN\n",
            "2016-05-04   -0.017938\n",
            "2016-05-05    0.017938\n",
            "2016-05-06   -0.008929\n",
            "2016-05-07   -0.004494\n",
            "                ...   \n",
            "2021-04-27    0.173269\n",
            "2021-04-28   -0.058896\n",
            "2021-04-29    0.100881\n",
            "2021-04-30    0.152030\n",
            "2021-05-03   -0.024731\n",
            "Name: log_return, Length: 1821, dtype: float64\n"
          ],
          "name": "stdout"
        }
      ]
    },
    {
      "cell_type": "code",
      "metadata": {
        "colab": {
          "base_uri": "https://localhost:8080/",
          "height": 335
        },
        "id": "e6BmxLO44eUJ",
        "outputId": "58723ec4-7296-4a48-d9f0-8bd93c03d545"
      },
      "source": [
        "#plot simple return\n",
        "lror = get_log_ror(symbol_dataframe)\n",
        "lror.plot(figsize=(8,5))"
      ],
      "execution_count": 189,
      "outputs": [
        {
          "output_type": "execute_result",
          "data": {
            "text/plain": [
              "<matplotlib.axes._subplots.AxesSubplot at 0x7ffa05027450>"
            ]
          },
          "metadata": {
            "tags": []
          },
          "execution_count": 189
        },
        {
          "output_type": "display_data",
          "data": {
            "image/png": "[encoded data removed]",
            "text/plain": [
              "<Figure size 576x360 with 1 Axes>"
            ]
          },
          "metadata": {
            "tags": [],
            "needs_background": "light"
          }
        }
      ]
    },
    {
      "cell_type": "code",
      "metadata": {
        "colab": {
          "base_uri": "https://localhost:8080/"
        },
        "id": "8I1Noptr2iVh",
        "outputId": "723c96e5-1f7c-4db7-95d6-7117dd8c86c6"
      },
      "source": [
        "average_log_returns_daily = get_log_returns_daily(symbol_dataframe)\n",
        "average_log_returns_daily\n",
        "print(\"The average daily logarithmic rate of return for \" + ticker + \" is \" \n",
        "      + str(round(average_log_returns_daily, 5) * 100) + ' %')"
      ],
      "execution_count": 190,
      "outputs": [
        {
          "output_type": "stream",
          "text": [
            "The average daily logarithmic rate of return for DOGE-USD is 0.409 %\n"
          ],
          "name": "stdout"
        }
      ]
    },
    {
      "cell_type": "code",
      "metadata": {
        "colab": {
          "base_uri": "https://localhost:8080/"
        },
        "id": "0Fbyodtm3LeH",
        "outputId": "8f311548-dd29-4406-9263-84bdccda6be4"
      },
      "source": [
        "average_log_returns_annually = get_log_returns_annually(symbol_dataframe)\n",
        "average_log_returns_annually\n",
        "print(\"The average annual logarithmic rate of return for \" + ticker + \" is \" \n",
        "      + str(round(average_log_returns_annually, 5) * 100) + ' %')"
      ],
      "execution_count": 191,
      "outputs": [
        {
          "output_type": "stream",
          "text": [
            "The average annual logarithmic rate of return for DOGE-USD is 149.325 %\n"
          ],
          "name": "stdout"
        }
      ]
    },
    {
      "cell_type": "code",
      "metadata": {
        "id": "mqDN4sVg4q1_"
      },
      "source": [
        ""
      ],
      "execution_count": 174,
      "outputs": []
    }
  ]
}