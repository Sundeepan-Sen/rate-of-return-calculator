{
  "nbformat": 4,
  "nbformat_minor": 0,
  "metadata": {
    "kernelspec": {
      "display_name": "Python 3",
      "language": "python",
      "name": "python3"
    },
    "language_info": {
      "codemirror_mode": {
        "name": "ipython",
        "version": 3
      },
      "file_extension": ".py",
      "mimetype": "text/x-python",
      "name": "python",
      "nbconvert_exporter": "python",
      "pygments_lexer": "ipython3",
      "version": "3.7.0"
    },
    "colab": {
      "name": "Calculating the Risk of a Cryptocurrency.ipynb",
      "provenance": [],
      "collapsed_sections": [],
      "include_colab_link": true
    }
  },
  "cells": [
    {
      "cell_type": "markdown",
      "metadata": {
        "id": "view-in-github",
        "colab_type": "text"
      },
      "source": [
        "<a href=\"https://colab.research.google.com/github/Sundeepan-Sen/rate-of-return-calculator/blob/main/Calculating_the_Risk_of_a_Cryptocurrency.ipynb\" target=\"_parent\"><img src=\"https://colab.research.google.com/assets/colab-badge.svg\" alt=\"Open In Colab\"/></a>"
      ]
    },
    {
      "cell_type": "code",
      "metadata": {
        "id": "tP7kJu5_1u7G"
      },
      "source": [
        "import numpy as np\n",
        "import pandas as pd\n",
        "from pandas_datareader import data as wb\n",
        "import matplotlib.pyplot as plt"
      ],
      "execution_count": 1,
      "outputs": []
    },
    {
      "cell_type": "code",
      "metadata": {
        "id": "3FyfSUzH1u7J"
      },
      "source": [
        "# Any yahoo finance symbol will work here. \n",
        "\n",
        "symbols = [\"ETH-USD\",\n",
        "           \"BTC-USD\",\n",
        "           \"DOGE-USD\",\n",
        "           \"XRP-USD\"]\n",
        "\n",
        "TRADING_DAYS = 365.25\n",
        "\n",
        "data = pd.DataFrame()\n",
        "\n",
        "for symbol in symbols:\n",
        "    data[symbols] = wb.DataReader(symbols, data_source='yahoo')['Adj Close']"
      ],
      "execution_count": 2,
      "outputs": []
    },
    {
      "cell_type": "code",
      "metadata": {
        "colab": {
          "base_uri": "https://localhost:8080/"
        },
        "id": "7QAWFtHo1u7L",
        "outputId": "56507549-1b10-43a8-fd1a-7dea7dea75ee"
      },
      "source": [
        "print(data.tail())"
      ],
      "execution_count": 3,
      "outputs": [
        {
          "output_type": "stream",
          "text": [
            "                ETH-USD       BTC-USD  DOGE-USD   XRP-USD\n",
            "Date                                                     \n",
            "2021-04-28  2756.876953  53555.109375  0.305169  1.399360\n",
            "2021-04-29  2773.207031  57750.175781  0.337561  1.591674\n",
            "2021-04-30  2945.892822  57828.050781  0.392987  1.651025\n",
            "2021-05-01  2952.056152  56631.078125  0.376046  1.562641\n",
            "2021-05-04  3386.176758  56577.058594  0.437198  1.514089\n"
          ],
          "name": "stdout"
        }
      ]
    },
    {
      "cell_type": "code",
      "metadata": {
        "id": "64qSZ64O1u7M"
      },
      "source": [
        "returns = np.log(data / data.shift(1))"
      ],
      "execution_count": 4,
      "outputs": []
    },
    {
      "cell_type": "code",
      "metadata": {
        "colab": {
          "base_uri": "https://localhost:8080/"
        },
        "id": "jM7sY-mW1u7N",
        "outputId": "2666d305-d4e1-4b2b-ff44-4426012ca817"
      },
      "source": [
        "print(returns)"
      ],
      "execution_count": 5,
      "outputs": [
        {
          "output_type": "stream",
          "text": [
            "             ETH-USD   BTC-USD  DOGE-USD   XRP-USD\n",
            "Date                                              \n",
            "2016-05-04       NaN       NaN       NaN       NaN\n",
            "2016-05-05 -0.050025  0.025623  0.017938  0.032722\n",
            "2016-05-06  0.002551 -0.002324 -0.008929  0.014121\n",
            "2016-05-07  0.011926  0.000026 -0.004494 -0.013340\n",
            "2016-05-08 -0.019723  0.004211  0.008969 -0.000781\n",
            "...              ...       ...       ...       ...\n",
            "2021-04-28  0.003815 -0.023430 -0.058896  0.029559\n",
            "2021-04-29  0.005906  0.075415  0.100881  0.128771\n",
            "2021-04-30  0.060408  0.001348  0.152030  0.036610\n",
            "2021-05-01  0.002090 -0.020916 -0.044065 -0.055019\n",
            "2021-05-04  0.137200 -0.000954  0.150675 -0.031563\n",
            "\n",
            "[1821 rows x 4 columns]\n"
          ],
          "name": "stdout"
        }
      ]
    },
    {
      "cell_type": "code",
      "metadata": {
        "colab": {
          "base_uri": "https://localhost:8080/",
          "height": 287
        },
        "id": "5p7A4T6b8-oK",
        "outputId": "892eb721-1fcd-4102-f874-f6b7b4bac433"
      },
      "source": [
        "returns.describe()"
      ],
      "execution_count": 6,
      "outputs": [
        {
          "output_type": "execute_result",
          "data": {
            "text/html": [
              "<div>\n",
              "<style scoped>\n",
              "    .dataframe tbody tr th:only-of-type {\n",
              "        vertical-align: middle;\n",
              "    }\n",
              "\n",
              "    .dataframe tbody tr th {\n",
              "        vertical-align: top;\n",
              "    }\n",
              "\n",
              "    .dataframe thead th {\n",
              "        text-align: right;\n",
              "    }\n",
              "</style>\n",
              "<table border=\"1\" class=\"dataframe\">\n",
              "  <thead>\n",
              "    <tr style=\"text-align: right;\">\n",
              "      <th></th>\n",
              "      <th>ETH-USD</th>\n",
              "      <th>BTC-USD</th>\n",
              "      <th>DOGE-USD</th>\n",
              "      <th>XRP-USD</th>\n",
              "    </tr>\n",
              "  </thead>\n",
              "  <tbody>\n",
              "    <tr>\n",
              "      <th>count</th>\n",
              "      <td>1820.000000</td>\n",
              "      <td>1820.000000</td>\n",
              "      <td>1820.000000</td>\n",
              "      <td>1820.000000</td>\n",
              "    </tr>\n",
              "    <tr>\n",
              "      <th>mean</th>\n",
              "      <td>0.003210</td>\n",
              "      <td>0.002659</td>\n",
              "      <td>0.004170</td>\n",
              "      <td>0.003022</td>\n",
              "    </tr>\n",
              "    <tr>\n",
              "      <th>std</th>\n",
              "      <td>0.056554</td>\n",
              "      <td>0.040776</td>\n",
              "      <td>0.077914</td>\n",
              "      <td>0.073054</td>\n",
              "    </tr>\n",
              "    <tr>\n",
              "      <th>min</th>\n",
              "      <td>-0.550732</td>\n",
              "      <td>-0.464730</td>\n",
              "      <td>-0.515118</td>\n",
              "      <td>-0.616273</td>\n",
              "    </tr>\n",
              "    <tr>\n",
              "      <th>25%</th>\n",
              "      <td>-0.020470</td>\n",
              "      <td>-0.012690</td>\n",
              "      <td>-0.020776</td>\n",
              "      <td>-0.020651</td>\n",
              "    </tr>\n",
              "    <tr>\n",
              "      <th>50%</th>\n",
              "      <td>0.000972</td>\n",
              "      <td>0.002345</td>\n",
              "      <td>0.000000</td>\n",
              "      <td>-0.002076</td>\n",
              "    </tr>\n",
              "    <tr>\n",
              "      <th>75%</th>\n",
              "      <td>0.027435</td>\n",
              "      <td>0.019033</td>\n",
              "      <td>0.019278</td>\n",
              "      <td>0.019628</td>\n",
              "    </tr>\n",
              "    <tr>\n",
              "      <th>max</th>\n",
              "      <td>0.290145</td>\n",
              "      <td>0.225119</td>\n",
              "      <td>1.323469</td>\n",
              "      <td>1.027356</td>\n",
              "    </tr>\n",
              "  </tbody>\n",
              "</table>\n",
              "</div>"
            ],
            "text/plain": [
              "           ETH-USD      BTC-USD     DOGE-USD      XRP-USD\n",
              "count  1820.000000  1820.000000  1820.000000  1820.000000\n",
              "mean      0.003210     0.002659     0.004170     0.003022\n",
              "std       0.056554     0.040776     0.077914     0.073054\n",
              "min      -0.550732    -0.464730    -0.515118    -0.616273\n",
              "25%      -0.020470    -0.012690    -0.020776    -0.020651\n",
              "50%       0.000972     0.002345     0.000000    -0.002076\n",
              "75%       0.027435     0.019033     0.019278     0.019628\n",
              "max       0.290145     0.225119     1.323469     1.027356"
            ]
          },
          "metadata": {
            "tags": []
          },
          "execution_count": 6
        }
      ]
    },
    {
      "cell_type": "markdown",
      "metadata": {
        "id": "btTtvV5a1u7N"
      },
      "source": [
        "## Mean return of all Symbols"
      ]
    },
    {
      "cell_type": "code",
      "metadata": {
        "colab": {
          "base_uri": "https://localhost:8080/",
          "height": 418
        },
        "id": "GiT1zmhk1u7O",
        "outputId": "0f7cd245-0291-4649-acce-87c1496b612f"
      },
      "source": [
        "data = returns[symbols].mean()\n",
        "X = np.arange(1)\n",
        "fig = plt.figure()\n",
        "ax = fig.add_axes([0,0,1,1])\n",
        "\n",
        "ax.bar(X + 0.00, data[0], color = 'm', width = 0.25)\n",
        "ax.bar(X + 0.25, data[1], color = 'b', width = 0.25)\n",
        "ax.bar(X + 0.50, data[2], color = 'y', width = 0.25)\n",
        "ax.bar(X + 0.75, data[3], color = 'r', width = 0.25)\n",
        "ax.legend(labels=symbols)\n",
        "\n",
        "print(returns[symbols].mean())"
      ],
      "execution_count": 7,
      "outputs": [
        {
          "output_type": "stream",
          "text": [
            "ETH-USD     0.003210\n",
            "BTC-USD     0.002659\n",
            "DOGE-USD    0.004170\n",
            "XRP-USD     0.003022\n",
            "dtype: float64\n"
          ],
          "name": "stdout"
        },
        {
          "output_type": "display_data",
          "data": {
            "image/png": "[encoded data removed]",
            "text/plain": [
              "<Figure size 432x288 with 1 Axes>"
            ]
          },
          "metadata": {
            "tags": [],
            "needs_background": "light"
          }
        }
      ]
    },
    {
      "cell_type": "code",
      "metadata": {
        "colab": {
          "base_uri": "https://localhost:8080/",
          "height": 418
        },
        "id": "rpKoWLq91u7P",
        "outputId": "e9334061-9f4f-450e-fd88-c15c5213af1d"
      },
      "source": [
        "data = returns[symbols].mean() * TRADING_DAYS\n",
        "X = np.arange(1)\n",
        "fig = plt.figure()\n",
        "ax = fig.add_axes([0,0,1,1])\n",
        "\n",
        "ax.bar(X + 0.00, data[0], color = 'm', width = 0.25)\n",
        "ax.bar(X + 0.25, data[1], color = 'b', width = 0.25)\n",
        "ax.bar(X + 0.50, data[2], color = 'y', width = 0.25)\n",
        "ax.bar(X + 0.75, data[3], color = 'r', width = 0.25)\n",
        "ax.legend(labels=symbols)\n",
        "returns[symbols].mean() * TRADING_DAYS"
      ],
      "execution_count": 8,
      "outputs": [
        {
          "output_type": "execute_result",
          "data": {
            "text/plain": [
              "ETH-USD     1.172496\n",
              "BTC-USD     0.971047\n",
              "DOGE-USD    1.523209\n",
              "XRP-USD     1.103607\n",
              "dtype: float64"
            ]
          },
          "metadata": {
            "tags": []
          },
          "execution_count": 8
        },
        {
          "output_type": "display_data",
          "data": {
            "image/png": "[encoded data removed]",
            "text/plain": [
              "<Figure size 432x288 with 1 Axes>"
            ]
          },
          "metadata": {
            "tags": [],
            "needs_background": "light"
          }
        }
      ]
    },
    {
      "cell_type": "markdown",
      "metadata": {
        "id": "VJBT2RpT9ubv"
      },
      "source": [
        "###Daily risk:"
      ]
    },
    {
      "cell_type": "code",
      "metadata": {
        "colab": {
          "base_uri": "https://localhost:8080/",
          "height": 418
        },
        "id": "AiSukv7l1u7P",
        "outputId": "ad8bd12b-8de7-4d90-ffb5-b99c7196b6c5"
      },
      "source": [
        "data = returns[symbols].std()\n",
        "X = np.arange(1)\n",
        "fig = plt.figure()\n",
        "ax = fig.add_axes([1,1,1,1])\n",
        "\n",
        "ax.bar(X + 0.00, data[0], color = 'm', width = 0.25)\n",
        "ax.bar(X + 0.25, data[1], color = 'b', width = 0.25)\n",
        "ax.bar(X + 0.50, data[2], color = 'y', width = 0.25)\n",
        "ax.bar(X + 0.75, data[3], color = 'r', width = 0.25)\n",
        "ax.legend(labels=symbols)\n",
        "returns[symbols].std()"
      ],
      "execution_count": 9,
      "outputs": [
        {
          "output_type": "execute_result",
          "data": {
            "text/plain": [
              "ETH-USD     0.056554\n",
              "BTC-USD     0.040776\n",
              "DOGE-USD    0.077914\n",
              "XRP-USD     0.073054\n",
              "dtype: float64"
            ]
          },
          "metadata": {
            "tags": []
          },
          "execution_count": 9
        },
        {
          "output_type": "display_data",
          "data": {
            "image/png": "[encoded data removed]",
            "text/plain": [
              "<Figure size 432x288 with 1 Axes>"
            ]
          },
          "metadata": {
            "tags": [],
            "needs_background": "light"
          }
        }
      ]
    },
    {
      "cell_type": "markdown",
      "metadata": {
        "id": "4uGmwVcu9wvX"
      },
      "source": [
        "### Annual risk:"
      ]
    },
    {
      "cell_type": "code",
      "metadata": {
        "colab": {
          "base_uri": "https://localhost:8080/",
          "height": 418
        },
        "id": "dTh9GhCX1u7Q",
        "outputId": "fcbca995-cc75-4c99-bfd0-ebdb2d9912bf"
      },
      "source": [
        "data = returns[symbols].std() * TRADING_DAYS ** 0.5\n",
        "X = np.arange(1)\n",
        "fig = plt.figure()\n",
        "ax = fig.add_axes([0,0,1,1])\n",
        "\n",
        "ax.bar(X + 0.00, data[0], color = 'm', width = 0.25)\n",
        "ax.bar(X + 0.25, data[1], color = 'b', width = 0.25)\n",
        "ax.bar(X + 0.50, data[2], color = 'y', width = 0.25)\n",
        "ax.bar(X + 0.75, data[3], color = 'r', width = 0.25)\n",
        "ax.legend(labels=symbols)\n",
        "returns[symbols].std() * TRADING_DAYS ** 0.5"
      ],
      "execution_count": 10,
      "outputs": [
        {
          "output_type": "execute_result",
          "data": {
            "text/plain": [
              "ETH-USD     1.080841\n",
              "BTC-USD     0.779290\n",
              "DOGE-USD    1.489062\n",
              "XRP-USD     1.396173\n",
              "dtype: float64"
            ]
          },
          "metadata": {
            "tags": []
          },
          "execution_count": 10
        },
        {
          "output_type": "display_data",
          "data": {
            "image/png": "[encoded data removed]",
            "text/plain": [
              "<Figure size 432x288 with 1 Axes>"
            ]
          },
          "metadata": {
            "tags": [],
            "needs_background": "light"
          }
        }
      ]
    },
    {
      "cell_type": "markdown",
      "metadata": {
        "id": "KnaSFrJc1u7U"
      },
      "source": [
        "Final Results:"
      ]
    },
    {
      "cell_type": "code",
      "metadata": {
        "colab": {
          "base_uri": "https://localhost:8080/",
          "height": 435
        },
        "id": "U2iom8r-1u7U",
        "outputId": "ed8cd7f4-0c97-47c3-9700-d9b21768bf03"
      },
      "source": [
        "print (returns[symbols].mean() * TRADING_DAYS)\n",
        "data = returns[symbols].mean() * TRADING_DAYS\n",
        "X = np.arange(1)\n",
        "fig = plt.figure()\n",
        "ax = fig.add_axes([0,0,1,1])\n",
        "\n",
        "ax.bar(X + 0.00, data[0], color = 'm', width = 0.25)\n",
        "ax.bar(X + 0.25, data[1], color = 'b', width = 0.25)\n",
        "ax.bar(X + 0.50, data[2], color = 'y', width = 0.25)\n",
        "ax.bar(X + 0.75, data[3], color = 'r', width = 0.25)\n",
        "ax.legend(labels=symbols)\n"
      ],
      "execution_count": 11,
      "outputs": [
        {
          "output_type": "stream",
          "text": [
            "ETH-USD     1.172496\n",
            "BTC-USD     0.971047\n",
            "DOGE-USD    1.523209\n",
            "XRP-USD     1.103607\n",
            "dtype: float64\n"
          ],
          "name": "stdout"
        },
        {
          "output_type": "execute_result",
          "data": {
            "text/plain": [
              "<matplotlib.legend.Legend at 0x7f84a56b9810>"
            ]
          },
          "metadata": {
            "tags": []
          },
          "execution_count": 11
        },
        {
          "output_type": "display_data",
          "data": {
            "image/png": "[encoded data removed]",
            "text/plain": [
              "<Figure size 432x288 with 1 Axes>"
            ]
          },
          "metadata": {
            "tags": [],
            "needs_background": "light"
          }
        }
      ]
    },
    {
      "cell_type": "code",
      "metadata": {
        "colab": {
          "base_uri": "https://localhost:8080/"
        },
        "id": "Hw4cK6Wj1u7V",
        "outputId": "36a6adaa-9c84-421a-85ed-f64cc54ed5e4"
      },
      "source": [
        "volatility = returns[symbols].std() * TRADING_DAYS ** 0.5\n",
        "print(volatility)"
      ],
      "execution_count": 12,
      "outputs": [
        {
          "output_type": "stream",
          "text": [
            "ETH-USD     1.080841\n",
            "BTC-USD     0.779290\n",
            "DOGE-USD    1.489062\n",
            "XRP-USD     1.396173\n",
            "dtype: float64\n"
          ],
          "name": "stdout"
        }
      ]
    },
    {
      "cell_type": "code",
      "metadata": {
        "id": "EhSedXaF-_xK"
      },
      "source": [
        "plt.show(symbols, volatility)"
      ],
      "execution_count": 13,
      "outputs": []
    },
    {
      "cell_type": "code",
      "metadata": {
        "colab": {
          "base_uri": "https://localhost:8080/",
          "height": 352
        },
        "id": "DR-i9L2UI8qV",
        "outputId": "3af1b849-894a-47e7-fa5d-2869ae5e2462"
      },
      "source": [
        "data = volatility\n",
        "X = np.arange(1)\n",
        "fig = plt.figure()\n",
        "ax = fig.add_axes([0,0,1,1])\n",
        "\n",
        "ax.bar(X + 0.00, data[0], color = 'm', width = 0.25)\n",
        "ax.bar(X + 0.25, data[1], color = 'b', width = 0.25)\n",
        "ax.bar(X + 0.50, data[2], color = 'y', width = 0.25)\n",
        "ax.bar(X + 0.75, data[3], color = 'r', width = 0.25)\n",
        "ax.legend(labels=symbols)"
      ],
      "execution_count": 14,
      "outputs": [
        {
          "output_type": "execute_result",
          "data": {
            "text/plain": [
              "<matplotlib.legend.Legend at 0x7f84a60e6ad0>"
            ]
          },
          "metadata": {
            "tags": []
          },
          "execution_count": 14
        },
        {
          "output_type": "display_data",
          "data": {
            "image/png": "[encoded data removed]",
            "text/plain": [
              "<Figure size 432x288 with 1 Axes>"
            ]
          },
          "metadata": {
            "tags": [],
            "needs_background": "light"
          }
        }
      ]
    },
    {
      "cell_type": "code",
      "metadata": {
        "colab": {
          "base_uri": "https://localhost:8080/",
          "height": 281
        },
        "id": "ZwzREICFMAcq",
        "outputId": "7d6f8f62-49e9-4563-cb01-844b739c356c"
      },
      "source": [
        "plt.scatter(symbols, volatility)"
      ],
      "execution_count": 16,
      "outputs": [
        {
          "output_type": "execute_result",
          "data": {
            "text/plain": [
              "<matplotlib.collections.PathCollection at 0x7f84a5e7b410>"
            ]
          },
          "metadata": {
            "tags": []
          },
          "execution_count": 16
        },
        {
          "output_type": "display_data",
          "data": {
            "image/png": "[encoded data removed]",
            "text/plain": [
              "<Figure size 432x288 with 1 Axes>"
            ]
          },
          "metadata": {
            "tags": [],
            "needs_background": "light"
          }
        }
      ]
    },
    {
      "cell_type": "code",
      "metadata": {
        "id": "cs20eIM7OFO4"
      },
      "source": [
        ""
      ],
      "execution_count": null,
      "outputs": []
    }
  ]
}