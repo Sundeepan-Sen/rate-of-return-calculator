{
  "nbformat": 4,
  "nbformat_minor": 0,
  "metadata": {
    "colab": {
      "name": "Crypto Rate of Return Calculator.ipynb",
      "provenance": [],
      "collapsed_sections": []
    },
    "kernelspec": {
      "name": "python3",
      "display_name": "Python 3"
    },
    "language_info": {
      "name": "python"
    }
  },
  "cells": [
    {
      "cell_type": "markdown",
      "metadata": {
        "id": "Z0xs-tmQw9gC"
      },
      "source": [
        "# Import libraries and data\n",
        "1.   numpy for the logarithm function\n",
        "2.   pandas_datareader for the crypto data\n",
        "3.   matplotlib for plotting graphs\n",
        "\n"
      ]
    },
    {
      "cell_type": "code",
      "metadata": {
        "id": "5u0pcY3dw31o"
      },
      "source": [
        "import numpy as np\n",
        "from pandas_datareader import data as wb\n",
        "import matplotlib.pyplot as plt"
      ],
      "execution_count": 136,
      "outputs": []
    },
    {
      "cell_type": "markdown",
      "metadata": {
        "id": "zt2E3l2nxCf1"
      },
      "source": [
        "# Set Number of Days in a Year\n",
        "###### Crypto is traded 24/7"
      ]
    },
    {
      "cell_type": "code",
      "metadata": {
        "id": "i8vxMOoyxBi6"
      },
      "source": [
        "# https://en.wikipedia.org/wiki/Year#:~:text=In%20the%20Julian%20calendar%2C%20the,year%20there%20are%20366%20days.\n",
        "DAYS_IN_YEAR = 365.25\n",
        "#DAYS_IN_YEAR = 221"
      ],
      "execution_count": 151,
      "outputs": []
    },
    {
      "cell_type": "markdown",
      "metadata": {
        "id": "oNglBnunxdrh"
      },
      "source": [
        "# Define Functions\n",
        "\n",
        "\n",
        "*   ` get_ticker_symbol():` gets the ticker symbol\n",
        "*   `get_start_date(): ` gets the start date. If none is specified then MAX\n",
        "*   `get_simple_ror(data_frame):` calculates simple ror\n",
        "*   `get_average_returns_daily(data_frame):`calculates average daily return\n",
        "*  ` def get_average_returns_annually(data_frame):`calculates average returns annually\n",
        "*   `def get_log_ror(data_frame):`calculates logarithmic rate of return\n",
        "*   `def get_log_returns_daily(data_frame):`calculates average daily log return\n",
        "*   `def get_log_returns_annually(data_frame):`alculates average log returns annually\n",
        "\n"
      ]
    },
    {
      "cell_type": "code",
      "metadata": {
        "id": "ZZnsxFoIxbry"
      },
      "source": [
        "def get_ticker_symbol():\n",
        "  return input(\"Enter Ticker Symbol: \")\n",
        "\n",
        "def get_start_date():\n",
        "  return input(\"Enter Start date from when you want to get data. Example: 2014-09-16 or enter for from the beginning of time: \")\n",
        "\n",
        "# Get's data for specified Crypto or Security - Use Yahoo Finanace website as \n",
        "# reference.\n",
        "def get_data(ticker):  \n",
        "  data = wb.DataReader(ticker, data_source='yahoo', start=start_date)\n",
        "  return data\n",
        "\n",
        "def get_simple_ror(data_frame):\n",
        "  data_frame['simple_return'] = (data_frame['Adj Close'] / data_frame['Adj Close'].shift(1)) - 1\n",
        "  return data_frame['simple_return']\n",
        "\n",
        "def get_average_returns_daily(data_frame):\n",
        "  average_returns_daily = data_frame['simple_return'].mean()\n",
        "  return average_returns_daily\n",
        "\n",
        "def get_average_returns_annually(data_frame):\n",
        "  average_returns_annually = data_frame['simple_return'].mean() * DAYS_IN_YEAR\n",
        "  return average_returns_annually\n",
        "\n",
        "def get_log_ror(data_frame):\n",
        "  data_frame['log_return'] = np.log(data_frame['Adj Close'] / data_frame['Adj Close'].shift(1))\n",
        "  return data_frame['log_return']\n",
        "\n",
        "def get_log_returns_daily(data_frame):\n",
        "  log_returns_daily = data_frame['log_return'].mean()\n",
        "  return log_returns_daily\n",
        "\n",
        "def get_log_returns_annually(data_frame):\n",
        "  log_returns_annually = data_frame['log_return'].mean() * DAYS_IN_YEAR\n",
        "  return log_returns_annually"
      ],
      "execution_count": 152,
      "outputs": []
    },
    {
      "cell_type": "markdown",
      "metadata": {
        "id": "teY6tn1gx09y"
      },
      "source": [
        "# Run Program"
      ]
    },
    {
      "cell_type": "code",
      "metadata": {
        "colab": {
          "base_uri": "https://localhost:8080/"
        },
        "id": "am7ryKDqyAiq",
        "outputId": "deab9a5e-b155-4071-9235-568cfaa334d1"
      },
      "source": [
        "# Get ticker symbol and start date. Press enter for max date.\n",
        "# Run program - asks for user input\n",
        "ticker = get_ticker_symbol()\n",
        "start_date = get_start_date()\n",
        "print()"
      ],
      "execution_count": 164,
      "outputs": [
        {
          "output_type": "stream",
          "text": [
            "Enter Ticker Symbol: BNB-USD\n",
            "Enter Start date from when you want to get data. Example: 2014-09-16 or enter for from the beginning of time: \n",
            "\n"
          ],
          "name": "stdout"
        }
      ]
    },
    {
      "cell_type": "code",
      "metadata": {
        "colab": {
          "base_uri": "https://localhost:8080/"
        },
        "id": "asUIBYM8yT30",
        "outputId": "befb314c-926b-4f4d-b9b1-7e9cd9c7e7fa"
      },
      "source": [
        "# call to get_data for ticker data frame.\n",
        "symbol_dataframe = get_data(ticker)\n",
        "print('[' +ticker+']' + ' ' + 'Start Date ' + start_date)\n",
        "print(symbol_dataframe)"
      ],
      "execution_count": 165,
      "outputs": [
        {
          "output_type": "stream",
          "text": [
            "[BNB-USD] Start Date \n",
            "                  High         Low  ...        Volume   Adj Close\n",
            "Date                                ...                          \n",
            "2017-07-24    0.115841    0.101531  ...  1.452690e+05    0.105870\n",
            "2017-07-25    0.109013    0.099266  ...  2.003950e+05    0.105138\n",
            "2017-07-26    0.108479    0.100888  ...  3.444990e+05    0.107737\n",
            "2017-07-27    0.109019    0.101473  ...  3.425680e+05    0.104067\n",
            "2017-07-28    0.111264    0.101108  ...  3.402180e+05    0.107811\n",
            "...                ...         ...  ...           ...         ...\n",
            "2021-04-27  578.888123  539.072510  ...  3.648785e+09  562.632568\n",
            "2021-04-28  614.824158  554.284668  ...  6.585919e+09  599.706543\n",
            "2021-04-29  627.777466  586.205811  ...  5.741358e+09  624.080566\n",
            "2021-04-30  641.860840  611.302002  ...  4.065705e+09  619.347229\n",
            "2021-05-03  630.458252  621.919922  ...  3.842887e+09  630.458252\n",
            "\n",
            "[1374 rows x 6 columns]\n"
          ],
          "name": "stdout"
        }
      ]
    },
    {
      "cell_type": "code",
      "metadata": {
        "colab": {
          "base_uri": "https://localhost:8080/"
        },
        "id": "EQDfgIYfyvlJ",
        "outputId": "77dab1cd-dda8-4b99-bc27-3f12d78c955f"
      },
      "source": [
        "# Analyze the dataset\n",
        "print(symbol_dataframe.describe())"
      ],
      "execution_count": 166,
      "outputs": [
        {
          "output_type": "stream",
          "text": [
            "              High          Low  ...        Volume    Adj Close\n",
            "count  1374.000000  1374.000000  ...  1.374000e+03  1374.000000\n",
            "mean     37.238234    33.736274  ...  4.895472e+08    35.775075\n",
            "std      88.816617    79.076151  ...  1.327006e+09    84.828003\n",
            "min       0.101211     0.096109  ...  9.284000e+03     0.099867\n",
            "25%      10.209650     9.579805  ...  4.720298e+07     9.823200\n",
            "50%      16.159481    15.261992  ...  1.863375e+08    15.733907\n",
            "75%      25.357121    23.083067  ...  3.471818e+08    24.433601\n",
            "max     641.860840   621.919922  ...  1.798295e+10   630.458252\n",
            "\n",
            "[8 rows x 6 columns]\n"
          ],
          "name": "stdout"
        }
      ]
    },
    {
      "cell_type": "code",
      "metadata": {
        "colab": {
          "base_uri": "https://localhost:8080/"
        },
        "id": "mfMH3m1KzSEb",
        "outputId": "8dff820c-f6da-4ae8-f595-e05d16fb2718"
      },
      "source": [
        "print(get_simple_ror(symbol_dataframe))"
      ],
      "execution_count": 167,
      "outputs": [
        {
          "output_type": "stream",
          "text": [
            "Date\n",
            "2017-07-24         NaN\n",
            "2017-07-25   -0.006914\n",
            "2017-07-26    0.024720\n",
            "2017-07-27   -0.034064\n",
            "2017-07-28    0.035977\n",
            "                ...   \n",
            "2021-04-27   -0.010270\n",
            "2021-04-28    0.065894\n",
            "2021-04-29    0.040643\n",
            "2021-04-30   -0.007584\n",
            "2021-05-03    0.017940\n",
            "Name: simple_return, Length: 1374, dtype: float64\n"
          ],
          "name": "stdout"
        }
      ]
    },
    {
      "cell_type": "code",
      "metadata": {
        "colab": {
          "base_uri": "https://localhost:8080/",
          "height": 343
        },
        "id": "e79ymzMfzkGX",
        "outputId": "790e36c5-62ea-412c-800a-2455e1483d75"
      },
      "source": [
        "#plot simple return\n",
        "sror = get_simple_ror(symbol_dataframe)\n",
        "sror.plot(figsize=(8,5))"
      ],
      "execution_count": 168,
      "outputs": [
        {
          "output_type": "execute_result",
          "data": {
            "text/plain": [
              "<matplotlib.axes._subplots.AxesSubplot at 0x7ffa05619b10>"
            ]
          },
          "metadata": {
            "tags": []
          },
          "execution_count": 168
        },
        {
          "output_type": "display_data",
          "data": {
            "image/png": "[encoded data removed]",
            "text/plain": [
              "<Figure size 576x360 with 1 Axes>"
            ]
          },
          "metadata": {
            "tags": [],
            "needs_background": "light"
          }
        }
      ]
    },
    {
      "cell_type": "code",
      "metadata": {
        "colab": {
          "base_uri": "https://localhost:8080/"
        },
        "id": "h6BHx_lM0nlc",
        "outputId": "2102a98f-a453-496b-9d0d-d13b47f4847a"
      },
      "source": [
        "average_returns_daily = get_average_returns_daily(symbol_dataframe)\n",
        "average_returns_daily\n",
        "print(\"The average daily simple rate of return for \" + ticker + \" is \" \n",
        "      + str(round(average_returns_daily, 5) * 100) + ' %')"
      ],
      "execution_count": 169,
      "outputs": [
        {
          "output_type": "stream",
          "text": [
            "The average daily simple rate of return for BNB-USD is 0.9209999999999999 %\n"
          ],
          "name": "stdout"
        }
      ]
    },
    {
      "cell_type": "code",
      "metadata": {
        "colab": {
          "base_uri": "https://localhost:8080/"
        },
        "id": "AoVsIjhb2eIM",
        "outputId": "a2dbd38c-e8bf-41c1-84ce-a2acd0fddce0"
      },
      "source": [
        "average_returns_annually = get_average_returns_annually(symbol_dataframe)\n",
        "average_returns_annually\n",
        "print(\"The average annual simple rate of return for \" + ticker + \" is \" \n",
        "      + str(round(average_returns_annually, 5) * 100) + ' %')"
      ],
      "execution_count": 170,
      "outputs": [
        {
          "output_type": "stream",
          "text": [
            "The average annual simple rate of return for BNB-USD is 336.267 %\n"
          ],
          "name": "stdout"
        }
      ]
    },
    {
      "cell_type": "code",
      "metadata": {
        "colab": {
          "base_uri": "https://localhost:8080/"
        },
        "id": "XoLOlO9c25SA",
        "outputId": "2e040127-71a6-4828-fee9-a4221d73870e"
      },
      "source": [
        "print(get_log_ror(symbol_dataframe))"
      ],
      "execution_count": 171,
      "outputs": [
        {
          "output_type": "stream",
          "text": [
            "Date\n",
            "2017-07-24         NaN\n",
            "2017-07-25   -0.006938\n",
            "2017-07-26    0.024419\n",
            "2017-07-27   -0.034658\n",
            "2017-07-28    0.035345\n",
            "                ...   \n",
            "2021-04-27   -0.010323\n",
            "2021-04-28    0.063814\n",
            "2021-04-29    0.039839\n",
            "2021-04-30   -0.007613\n",
            "2021-05-03    0.017781\n",
            "Name: log_return, Length: 1374, dtype: float64\n"
          ],
          "name": "stdout"
        }
      ]
    },
    {
      "cell_type": "code",
      "metadata": {
        "colab": {
          "base_uri": "https://localhost:8080/",
          "height": 343
        },
        "id": "e6BmxLO44eUJ",
        "outputId": "c650a5a1-52bf-4cfd-e622-7cc1eb652a4d"
      },
      "source": [
        "#plot simple return\n",
        "lror = get_log_ror(symbol_dataframe)\n",
        "lror.plot(figsize=(8,5))"
      ],
      "execution_count": 172,
      "outputs": [
        {
          "output_type": "execute_result",
          "data": {
            "text/plain": [
              "<matplotlib.axes._subplots.AxesSubplot at 0x7ffa055cb610>"
            ]
          },
          "metadata": {
            "tags": []
          },
          "execution_count": 172
        },
        {
          "output_type": "display_data",
          "data": {
            "image/png": "[encoded data removed]",
            "text/plain": [
              "<Figure size 576x360 with 1 Axes>"
            ]
          },
          "metadata": {
            "tags": [],
            "needs_background": "light"
          }
        }
      ]
    },
    {
      "cell_type": "code",
      "metadata": {
        "colab": {
          "base_uri": "https://localhost:8080/"
        },
        "id": "8I1Noptr2iVh",
        "outputId": "95c12aba-dbf1-4630-dee7-77040560a82a"
      },
      "source": [
        "average_log_returns_daily = get_log_returns_daily(symbol_dataframe)\n",
        "average_log_returns_daily\n",
        "print(\"The average daily logarithmic rate of return for \" + ticker + \" is \" \n",
        "      + str(round(average_log_returns_daily, 5) * 100) + ' %')"
      ],
      "execution_count": 173,
      "outputs": [
        {
          "output_type": "stream",
          "text": [
            "The average daily logarithmic rate of return for BNB-USD is 0.633 %\n"
          ],
          "name": "stdout"
        }
      ]
    },
    {
      "cell_type": "code",
      "metadata": {
        "colab": {
          "base_uri": "https://localhost:8080/"
        },
        "id": "0Fbyodtm3LeH",
        "outputId": "ca884425-66f8-41a1-ac57-11b3c84f5d54"
      },
      "source": [
        "average_log_returns_annually = get_log_returns_annually(symbol_dataframe)\n",
        "average_log_returns_annually\n",
        "print(\"The average annual logarithmic rate of return for \" + ticker + \" is \" \n",
        "      + str(round(average_log_returns_annually, 5) * 100) + ' %')"
      ],
      "execution_count": 174,
      "outputs": [
        {
          "output_type": "stream",
          "text": [
            "The average annual log rate of return for BNB-USD is 231.22699999999998 %\n"
          ],
          "name": "stdout"
        }
      ]
    },
    {
      "cell_type": "code",
      "metadata": {
        "id": "mqDN4sVg4q1_"
      },
      "source": [
        ""
      ],
      "execution_count": 174,
      "outputs": []
    }
  ]
}